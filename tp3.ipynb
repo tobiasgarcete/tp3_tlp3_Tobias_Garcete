{
 "cells": [
  {
   "cell_type": "markdown",
   "id": "498731c6",
   "metadata": {},
   "source": [
    "# Trabajo Practico n3 - Trabajando con Lists y Sets.\n",
    "## Criterios de evaluación.\n",
    "\n",
    "* Se deben utilizar nombres de variables descriptivos y claros (Utilizar la nomeclatura correspondiente para los nombres de variables).\n",
    "* Comentarios claros y concisos que expliquen el propósito de cada sección del código.\n",
    "* Utilizar mensajes de commit **descriptivos**. (Puedes utilizar la extension CONVENTIONAL COMMIT de VS-CODE). \n",
    "* Entrega en tiempo y forma.\n",
    "* Todo el código desarrollado debe ser subido a un repositorio en GitHub (el nombre del repositorio de seguir la siguiente estructura: tp3_tlp3_nombre_apellido).\n",
    "* Para resolver las actividades se debe insertar casillas de codigo entre cada actividad del cuaderno de Jupyter\n",
    "* El repositorio de GitHub debe incluir un archivo README.md con las instrucciones necesarias para la correcta ejecución del código.\n",
    "\n",
    "### ¡Importante!\n",
    "**El incumplimiento de los criterios de evaluación restará puntos en la nota final del práctico!**"
   ]
  },
  {
   "cell_type": "markdown",
   "id": "b361a7b6",
   "metadata": {},
   "source": [
    "### Actividad 1: \n",
    "Suma de todos los elementos de una lista, utilizando bucles repetitivos (for, while)."
   ]
  },
  {
   "cell_type": "code",
   "execution_count": null,
   "id": "26009294",
   "metadata": {},
   "outputs": [],
   "source": [
    "\n",
    "# todo:\n",
    "\n",
    "    \n",
    "numeros = [10, 20, 30, 40, 50]\n",
    "\n",
    "# Suma utilizando un bucle for\n",
    "suma_for = 0\n",
    "for numero in numeros:\n",
    "    suma_for += numero\n",
    "\n",
    "print(\"Suma con bucle for:\", suma_for)\n",
    "\n",
    "\n",
    "\n"
   ]
  },
  {
   "cell_type": "code",
   "execution_count": null,
   "id": "c5c89c30",
   "metadata": {},
   "outputs": [],
   "source": [
    "# Suma utilizando un bucle while\n",
    "suma_while = 0\n",
    "indice = 0\n",
    "while indice < len(numeros):\n",
    "    suma_while += numeros[indice]\n",
    "    indice += 1\n",
    "\n",
    "print(\"Suma con bucle while:\", suma_while)"
   ]
  },
  {
   "cell_type": "markdown",
   "id": "0c239195",
   "metadata": {},
   "source": [
    "### Actividad 2: \n",
    "Encontrar el número más grande en una lista, utilizando bucles repetitivos (for, while)."
   ]
  },
  {
   "cell_type": "code",
   "execution_count": null,
   "id": "3611d25a",
   "metadata": {},
   "outputs": [],
   "source": [
    "\n",
    "# todo:\n",
    "\n",
    "from random import randint\n",
    "random_numbers =[randint(1, 100) for i in range(5)]"
   ]
  },
  {
   "cell_type": "code",
   "execution_count": null,
   "id": "e0b84e5b",
   "metadata": {},
   "outputs": [],
   "source": [
    "# Usando un bucle for\n",
    "mayor_for = random_numbers[0]  # Suponemos que el primero es el mayor\n",
    "for numero in random_numbers:\n",
    "    if numero > mayor_for:\n",
    "        mayor_for = numero\n",
    "\n",
    "print(\"Lista de números:\", random_numbers)\n",
    "print(\"Mayor con for:\", mayor_for)\n"
   ]
  },
  {
   "cell_type": "code",
   "execution_count": null,
   "id": "4d9e165b",
   "metadata": {},
   "outputs": [],
   "source": [
    "# Usando un bucle while\n",
    "indice = 1\n",
    "mayor_while = random_numbers[0]\n",
    "\n",
    "while indice < len(random_numbers):\n",
    "    if random_numbers[indice] > mayor_while:\n",
    "        mayor_while = random_numbers[indice]\n",
    "    indice += 1\n",
    "\n",
    "print(\"Mayor con while:\", mayor_while)\n"
   ]
  },
  {
   "cell_type": "markdown",
   "id": "70a24b97",
   "metadata": {},
   "source": [
    "### Actividad 3:\n",
    "Contar cuántas veces aparece un número específico. Utiliza estructuras repetitivas para la resolucion de este ejercicio. "
   ]
  },
  {
   "cell_type": "code",
   "execution_count": null,
   "id": "a9c8ebc7",
   "metadata": {},
   "outputs": [],
   "source": [
    "\n",
    "# todo:\n",
    "\n",
    "lists = [randint(1, 200) for i in range(20)]"
   ]
  },
  {
   "cell_type": "code",
   "execution_count": null,
   "id": "4235f756",
   "metadata": {},
   "outputs": [],
   "source": [
    "# Número a buscar\n",
    "numero_buscado = 50\n",
    "\n",
    "# Contador\n",
    "contador = 0\n",
    "\n",
    "# Recorremos la lista\n",
    "for numero in lists:\n",
    "    if numero == numero_buscado:\n",
    "        contador += 1\n",
    "\n",
    "# Mostramos los resultados\n",
    "print(\"Lista de números:\", lists)\n",
    "print(f\"El número {numero_buscado} aparece {contador} veces.\")\n",
    "    "
   ]
  },
  {
   "cell_type": "code",
   "execution_count": null,
   "id": "278d1bb8",
   "metadata": {},
   "outputs": [],
   "source": [
    "#Realizado con bucle while\n",
    "\n",
    "indice = 0\n",
    "contador_while = 0\n",
    "\n",
    "while indice < len(lists):\n",
    "    if lists[indice] == numero_buscado:\n",
    "        contador_while += 1\n",
    "    indice += 1\n",
    "\n",
    "print(f\"(Con while) El número {numero_buscado} aparece {contador_while} veces.\")\n"
   ]
  },
  {
   "cell_type": "markdown",
   "id": "b8dac397",
   "metadata": {},
   "source": [
    "### Actividad 4: \n",
    "Invertir una lista sin usar reverse() ni [::-1]"
   ]
  },
  {
   "cell_type": "code",
   "execution_count": null,
   "id": "d04fd492",
   "metadata": {},
   "outputs": [],
   "source": [
    "\n",
    "# todo:\n",
    "from random import randint\n",
    "\n",
    "# Generamos la lista original\n",
    "lists_two = [randint(1, 50) for i in range(8)]\n",
    "\n",
    "# Creamos una nueva lista vacía para guardar los elementos invertidos\n",
    "listaInvertida = []\n",
    "\n",
    "# Recorremos la lista original de atrás hacia adelante usando índices\n",
    "for i in range(len(lists_two)):\n",
    "    listaInvertida.insert(0, lists_two[i])\n",
    "\n",
    "# Mostramos los resultados\n",
    "print(\"Lista original:\", lists_two)\n",
    "print(\"Lista invertida:\", listaInvertida)\n"
   ]
  },
  {
   "cell_type": "markdown",
   "id": "8889d0f2",
   "metadata": {},
   "source": [
    "### Actividad 5:\n",
    "Sumar los elementos de dos listas posición por posición, utilizando solo bucles repetititivos (for,while)."
   ]
  },
  {
   "cell_type": "code",
   "execution_count": null,
   "id": "bc0ec844",
   "metadata": {},
   "outputs": [],
   "source": [
    "\n",
    "# todo:\n",
    "\n",
    "lists_one = [ 2,4,6,7,8 ]\n",
    "lists_two = [ 1,3,5,9,10 ]"
   ]
  },
  {
   "cell_type": "markdown",
   "id": "8ce33e6b",
   "metadata": {},
   "source": [
    "### Actividad 6:\n",
    "\n",
    "Escribir un programa que almacene el abecedario en una lista, elimine de la lista las letras que ocupen posiciones múltiplos de 3, y muestre por pantalla la lista resultante."
   ]
  },
  {
   "cell_type": "code",
   "execution_count": null,
   "id": "b07326e2",
   "metadata": {},
   "outputs": [],
   "source": [
    "\n",
    "# todo:"
   ]
  },
  {
   "cell_type": "markdown",
   "id": "5bfeb4b5",
   "metadata": {},
   "source": [
    "### Actividad 7:\n",
    "\n",
    "Escribir un programa que pida al usuario una palabra y muestre por pantalla si es un palíndromo (una palabra que se escribe de la misma forma al derecho y al reves)."
   ]
  },
  {
   "cell_type": "code",
   "execution_count": null,
   "id": "2365afcc",
   "metadata": {},
   "outputs": [],
   "source": [
    "\n",
    "# todo:"
   ]
  },
  {
   "cell_type": "markdown",
   "id": "ed8b51be",
   "metadata": {},
   "source": [
    "### Actividad 8:\n",
    "\n",
    "Teniendo en cuenta el conjunto 1 y el conjunto 2, sin usar el operador de intersección &, calcular la intersección de dichos conjuntos."
   ]
  },
  {
   "cell_type": "code",
   "execution_count": null,
   "id": "21a434b9",
   "metadata": {},
   "outputs": [],
   "source": [
    "conjunto1 = {1, 2, 3, 4}\n",
    "conjunto2 = {3, 4, 5, 6}\n",
    "# todo:"
   ]
  },
  {
   "cell_type": "markdown",
   "id": "31b460dc",
   "metadata": {},
   "source": [
    "### Actividad 9:\n",
    "Eliminar duplicados de una lista usando un set."
   ]
  },
  {
   "cell_type": "code",
   "execution_count": null,
   "id": "0ef62008",
   "metadata": {},
   "outputs": [],
   "source": [
    "\n",
    "# todo:\n",
    "lista = [1, 2, 2, 3, 4, 4, 5]\n"
   ]
  },
  {
   "cell_type": "markdown",
   "id": "075f1f2c",
   "metadata": {},
   "source": [
    "### Actividad 10:\n",
    "\n",
    "Escribir un programa que cree 2 matrices y realice su multiplicacion."
   ]
  },
  {
   "cell_type": "code",
   "execution_count": null,
   "id": "4c1fd0e1",
   "metadata": {},
   "outputs": [],
   "source": [
    "\n",
    "# todo:"
   ]
  }
 ],
 "metadata": {
  "kernelspec": {
   "display_name": "Python 3",
   "language": "python",
   "name": "python3"
  },
  "language_info": {
   "codemirror_mode": {
    "name": "ipython",
    "version": 3
   },
   "file_extension": ".py",
   "mimetype": "text/x-python",
   "name": "python",
   "nbconvert_exporter": "python",
   "pygments_lexer": "ipython3",
   "version": "3.13.2"
  }
 },
 "nbformat": 4,
 "nbformat_minor": 5
}
